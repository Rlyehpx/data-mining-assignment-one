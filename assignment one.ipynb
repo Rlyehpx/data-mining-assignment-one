{
 "cells": [
  {
   "cell_type": "code",
   "execution_count": 28,
   "id": "153c1cd9-38f3-401d-ab46-4d61225df0df",
   "metadata": {},
   "outputs": [
    {
     "name": "stdout",
     "output_type": "stream",
     "text": [
      "Decision Tree Results: (0.799136786188579, 0.5875940825330911, 0.6118918918918919, 0.5994968886535151, array([[9771, 1589],\n",
      "       [1436, 2264]]), 0.10006523132324219, 0.0015299320220947266)\n",
      "SVM Results: (0.846347941567065, 0.7572383073496659, 0.5513513513513514, 0.6380982170785111, array([[10706,   654],\n",
      "       [ 1660,  2040]]), 5.7301270961761475, 4.05870795249939)\n"
     ]
    }
   ],
   "source": [
    "import pandas as pd\n",
    "from sklearn.model_selection import train_test_split\n",
    "from sklearn.preprocessing import LabelEncoder, StandardScaler\n",
    "from sklearn.tree import DecisionTreeClassifier\n",
    "from sklearn.svm import SVC\n",
    "from sklearn.metrics import accuracy_score, precision_score, recall_score, f1_score, confusion_matrix\n",
    "import time\n",
    "\n",
    "train_data = pd.read_csv('Desktop/Homework/data mining/as1/Census Income Data Set/adult.data', header=None)\n",
    "test_data = pd.read_csv('Desktop/Homework/data mining/as1/Census Income Data Set/adult.test', header=None, skiprows=1)\n",
    "columns = ['age', 'workclass', 'fnlwgt', 'education', 'education-num', 'marital-status', 'occupation', \n",
    "           'relationship', 'race', 'sex', 'capital-gain', 'capital-loss', 'hours-per-week', 'native-country', 'income']\n",
    "\n",
    "train_data.columns = columns\n",
    "test_data.columns = columns\n",
    "\n",
    "# Data Preparation\n",
    "def preprocess_data(data):\n",
    "    # Handle Missing Values\n",
    "    data = data.replace(' ?', None).dropna()\n",
    "    \n",
    "    # Categorical variables\n",
    "    le = LabelEncoder()\n",
    "    for column in data.select_dtypes(include=['object']).columns:\n",
    "        data[column] = le.fit_transform(data[column])\n",
    "    \n",
    "    return data\n",
    "\n",
    "train_data = preprocess_data(train_data)\n",
    "test_data = preprocess_data(test_data)\n",
    "\n",
    "# Split features and labels\n",
    "X_train = train_data.drop('income', axis=1)\n",
    "y_train = train_data['income']\n",
    "X_test = test_data.drop('income', axis=1)\n",
    "y_test = test_data['income']\n",
    "\n",
    "# Normalizing Numerical Features\n",
    "scaler = StandardScaler()\n",
    "X_train = scaler.fit_transform(X_train)\n",
    "X_test = scaler.transform(X_test)\n",
    "\n",
    "def evaluate_model(model, X_train, y_train, X_test, y_test):\n",
    "    # reocrd time\n",
    "    start_time = time.time()\n",
    "    model.fit(X_train, y_train)\n",
    "    training_time = time.time() - start_time\n",
    "    \n",
    "    # record test time\n",
    "    start_time = time.time()\n",
    "    y_pred = model.predict(X_test)\n",
    "    testing_time = time.time() - start_time\n",
    "    \n",
    "    # Calculation performance indicators\n",
    "    accuracy = accuracy_score(y_test, y_pred)\n",
    "    precision = precision_score(y_test, y_pred)\n",
    "    recall = recall_score(y_test, y_pred)\n",
    "    f1 = f1_score(y_test, y_pred)\n",
    "    conf_matrix = confusion_matrix(y_test, y_pred)\n",
    "    \n",
    "    return accuracy, precision, recall, f1, conf_matrix, training_time, testing_time\n",
    "\n",
    "# Decision Tree\n",
    "decision_tree = DecisionTreeClassifier()\n",
    "dt_results = evaluate_model(decision_tree, X_train, y_train, X_test, y_test)\n",
    "\n",
    "# Support Vector Machines (SVM)\n",
    "svm = SVC()\n",
    "svm_results = evaluate_model(svm, X_train, y_train, X_test, y_test)\n",
    "\n",
    "# comparing the results\n",
    "print(\"Decision Tree Results:\", dt_results)\n",
    "print(\"SVM Results:\", svm_results)"
   ]
  },
  {
   "cell_type": "code",
   "execution_count": null,
   "id": "dd805a23-cc73-4ff7-8cd7-95fdbbef33af",
   "metadata": {},
   "outputs": [],
   "source": []
  },
  {
   "cell_type": "code",
   "execution_count": null,
   "id": "9b5b7254-b23c-47d9-ae8e-c12b09d67042",
   "metadata": {},
   "outputs": [],
   "source": []
  },
  {
   "cell_type": "code",
   "execution_count": null,
   "id": "87609c86-02be-4917-8446-4411981bcabf",
   "metadata": {},
   "outputs": [],
   "source": []
  }
 ],
 "metadata": {
  "kernelspec": {
   "display_name": "Python 3 (ipykernel)",
   "language": "python",
   "name": "python3"
  },
  "language_info": {
   "codemirror_mode": {
    "name": "ipython",
    "version": 3
   },
   "file_extension": ".py",
   "mimetype": "text/x-python",
   "name": "python",
   "nbconvert_exporter": "python",
   "pygments_lexer": "ipython3",
   "version": "3.12.4"
  }
 },
 "nbformat": 4,
 "nbformat_minor": 5
}
